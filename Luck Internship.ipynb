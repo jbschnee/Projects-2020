{
 "cells": [
  {
   "cell_type": "markdown",
   "metadata": {},
   "source": [
    "# This notebook will be used to create a speech recognition algorithm\n",
    "\n",
    "I will begin by installing the necessary libraries"
   ]
  },
  {
   "cell_type": "code",
   "execution_count": 1,
   "metadata": {},
   "outputs": [],
   "source": [
    "import speech_recognition as sr\n",
    "import pandas as pd\n",
    "import os\n",
    "import csv\n",
    "from textblob import TextBlob"
   ]
  },
  {
   "cell_type": "markdown",
   "metadata": {},
   "source": [
    "Below is a function to record the speech and transcribe into csv file. "
   ]
  },
  {
   "cell_type": "code",
   "execution_count": 12,
   "metadata": {
    "scrolled": true
   },
   "outputs": [
    {
     "name": "stdout",
     "output_type": "stream",
     "text": [
      "Please say something\n",
      "Recognizing Now .... \n",
      "You have said \n",
      "bad weather outside\n",
      "Audio Recorded Successfully \n",
      " \n"
     ]
    }
   ],
   "source": [
    "def main():\n",
    "\n",
    "    r = sr.Recognizer()\n",
    "\n",
    "    with sr.Microphone() as source:\n",
    "        r.adjust_for_ambient_noise(source)\n",
    "\n",
    "        print(\"Please say something\")\n",
    "\n",
    "        audio = r.listen(source)\n",
    "\n",
    "        print(\"Recognizing Now .... \")\n",
    "\n",
    "\n",
    "        # recognize speech using google\n",
    "        \n",
    "        answer =r.recognize_google(audio)\n",
    "\n",
    "        try:\n",
    "            print(\"You have said \\n\" + answer)\n",
    "            print(\"Audio Recorded Successfully \\n \")\n",
    "\n",
    "\n",
    "        except Exception as e:\n",
    "            print(\"Error :  \" + str(e))\n",
    "            \n",
    "        with open('texttospeech.csv', 'w', newline='') as csvfile:\n",
    "            answers=csv.writer(csvfile, delimiter=' ')\n",
    "            answers.writerow(str(answer))\n",
    "\n",
    "if __name__ == \"__main__\":\n",
    "    main()"
   ]
  },
  {
   "cell_type": "code",
   "execution_count": 4,
   "metadata": {},
   "outputs": [],
   "source": [
    "feedback = \"CAUTION: EXTERNAL EMAIL Marchia,  Since we have received no response from you as to proof of payment of the outstanding amount to Luck Stone, we have issued a joint check in the amount of $32,116.74 for all moneys owed to your company under this subcontract. We will mail this check upon receipt of executed final waiver, and demand immediate payment of the remaining balance owed to Luck Stone.   Thanks for your attention.    ALBERTO GOMEZ Project Manager Precision 2000 Inc. - CIVIL CONSTRUCTION CONTRACTORS PHONE: (770) 455-6142 x 209  CEL: (404) 242-3509 PRECISION2K.COM  P2K LinkedIn  P2KFacebook\""
   ]
  },
  {
   "cell_type": "markdown",
   "metadata": {},
   "source": [
    "Checking CSV"
   ]
  },
  {
   "cell_type": "code",
   "execution_count": 15,
   "metadata": {},
   "outputs": [
    {
     "name": "stdout",
     "output_type": "stream",
     "text": [
      "Empty DataFrame\n",
      "Columns: [b a d \" \" w e a t h e r \" \" o u t s i d e]\n",
      "Index: []\n"
     ]
    }
   ],
   "source": [
    "file=pd.read_csv('texttospeech.csv')\n",
    "print(file)"
   ]
  },
  {
   "cell_type": "code",
   "execution_count": 16,
   "metadata": {
    "scrolled": true
   },
   "outputs": [
    {
     "name": "stdout",
     "output_type": "stream",
     "text": [
      "Empty DataFrame\n",
      "Columns: [b a d \" \" w e a t h e r \" \" o u t s i d e]\n",
      "Index: []\n",
      "Sentiment(polarity=-0.5333333333333333, subjectivity=0.8333333333333334)\n"
     ]
    }
   ],
   "source": [
    "testappt=TextBlob(str(file))\n",
    "print(testappt)\n",
    "print(testappt.sentiment)"
   ]
  },
  {
   "cell_type": "markdown",
   "metadata": {},
   "source": [
    "### Test on using mp3 files"
   ]
  },
  {
   "cell_type": "code",
   "execution_count": 17,
   "metadata": {},
   "outputs": [
    {
     "name": "stdout",
     "output_type": "stream",
     "text": [
      "ready!\n"
     ]
    }
   ],
   "source": [
    "import speech_recognition as sr\n",
    "r = sr.Recognizer()\n",
    "audio_file = sr.AudioFile('Lincoln.wav')\n",
    "with audio_file as source: \n",
    "   r.adjust_for_ambient_noise(source) \n",
    "   audio = r.record(source)\n",
    "result = r.recognize_google(audio)\n",
    "with open('test.txt',mode ='w') as file: \n",
    "   file.write(\"Recognized text:\") \n",
    "   file.write(\"\\n\") \n",
    "   file.write(result) \n",
    "   print(\"ready!\")"
   ]
  },
  {
   "cell_type": "markdown",
   "metadata": {},
   "source": [
    "Only used 30 seconds of recording"
   ]
  }
 ],
 "metadata": {
  "kernelspec": {
   "display_name": "Python 3",
   "language": "python",
   "name": "python3"
  },
  "language_info": {
   "codemirror_mode": {
    "name": "ipython",
    "version": 3
   },
   "file_extension": ".py",
   "mimetype": "text/x-python",
   "name": "python",
   "nbconvert_exporter": "python",
   "pygments_lexer": "ipython3",
   "version": "3.8.5"
  }
 },
 "nbformat": 4,
 "nbformat_minor": 4
}
